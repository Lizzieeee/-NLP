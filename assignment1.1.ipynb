{
 "cells": [
  {
   "cell_type": "code",
   "execution_count": null,
   "metadata": {},
   "outputs": [],
   "source": [
    "human = \"\"\"\n",
    "human = 自己 寻找 活动\n",
    "自己 =    我 | 俺 | 我们 \n",
    "寻找 = 看看 | 找找 | 想找点\n",
    "活动 = 乐子 | 玩的\n",
    "\"\"\"\n",
    "host = \"\"\"\n",
    "host = 寒暄 报数 询问 业务相关 结尾 \n",
    "报数 = 我是 数字 号 ,\n",
    "数字 = 单个数字 | 数字 单个数字 \n",
    "单个数字 = 1 | 2 | 3 | 4 | 5 | 6 | 7 | 8 | 9 \n",
    "寒暄 = 称谓 打招呼 | 打招呼\n",
    "称谓 = 人称 ,\n",
    "人称 = 先生 | 女士 | 小朋友\n",
    "打招呼 = 你好 | 您好 \n",
    "询问 = 请问你要 | 您需要\n",
    "业务相关 = 玩玩 具体业务\n",
    "玩玩 = 耍一耍 | 玩一玩\n",
    "具体业务 = 喝酒 | 打牌 | 打猎 | 赌博\n",
    "结尾 = 吗？\"\"\""
   ]
  },
  {
   "cell_type": "code",
   "execution_count": null,
   "metadata": {},
   "outputs": [],
   "source": [
    "import random\n"
   ]
  },
  {
   "cell_type": "code",
   "execution_count": null,
   "metadata": {},
   "outputs": [],
   "source": [
    "def create_grammer(gram,split):\n",
    "    grammer = {}\n",
    "    for line in gram.split('\\n'):\n",
    "        if not line.strip(): continue\n",
    "        exp,stmt = line.split(split)\n",
    "        grammer[exp.strip()] = [s.split() for s in stmt.split('|')]\n",
    "    return grammer\n",
    "        "
   ]
  },
  {
   "cell_type": "code",
   "execution_count": null,
   "metadata": {},
   "outputs": [],
   "source": [
    "grammer_human = create_grammer(human,'=')\n",
    "grammer_host = create_grammer(host,'=')"
   ]
  },
  {
   "cell_type": "code",
   "execution_count": 31,
   "metadata": {},
   "outputs": [
    {
     "name": "stdout",
     "output_type": "stream",
     "text": [
      "我找找玩的\n",
      "女士,你好我是88号,请问你要耍一耍打牌吗？\n",
      "<class 'str'>\n",
      "['我想找点乐子']\n"
     ]
    }
   ],
   "source": [
    "def generate(gram,target):\n",
    "    if target in gram:\n",
    "        expand_next = random.choice(gram[target])\n",
    "        expanded_next = [generate(gram,t) for t in expand_next]\n",
    "        return ''.join([e for e in expanded_next])        \n",
    "    else:\n",
    "        return target\n",
    "generate_human = generate(grammer_human,'human')\n",
    "generate_host = generate(grammer_host,'host')\n",
    "print(generate_human)\n",
    "print(generate_host)\n",
    "print(type(generate_host)"
   ]
  },
  {
   "cell_type": "code",
   "execution_count": 36,
   "metadata": {},
   "outputs": [
    {
     "name": "stdout",
     "output_type": "stream",
     "text": [
      "['我看看乐子']\n",
      "['我想找点玩的']\n",
      "['我想找点玩的']\n",
      "['我看看玩的']\n",
      "['我们找找乐子']\n",
      "['我们找找乐子']\n"
     ]
    }
   ],
   "source": [
    "def generate_n(gram,target,n):\n",
    "    g_n = []\n",
    "    for i in range(n):\n",
    "        if target in gram:\n",
    "            expand_next = random.choice(gram[target])\n",
    "            expanded_next = [generate(gram,t) for t in expand_next]\n",
    "            t = ''.join([e for e in expanded_next]) \n",
    "        else:\n",
    "            t = target\n",
    "        g_n.append(str(t))\n",
    "    return g_n\n",
    "generate_n_human = generate_n(grammer_human,'human',5)\n",
    "print(generate_n_human)"
   ]
  }
 ],
 "metadata": {
  "kernelspec": {
   "display_name": "Python 3",
   "language": "python",
   "name": "python3"
  },
  "language_info": {
   "codemirror_mode": {
    "name": "ipython",
    "version": 3
   },
   "file_extension": ".py",
   "mimetype": "text/x-python",
   "name": "python",
   "nbconvert_exporter": "python",
   "pygments_lexer": "ipython3",
   "version": "3.7.3"
  }
 },
 "nbformat": 4,
 "nbformat_minor": 2
}
